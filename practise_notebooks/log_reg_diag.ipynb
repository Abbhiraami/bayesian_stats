{
 "cells": [
  {
   "cell_type": "markdown",
   "id": "faf058d6-fe0f-4f04-98d1-0e53e9625390",
   "metadata": {
    "tags": []
   },
   "source": [
    "### Simple logistic regression"
   ]
  },
  {
   "cell_type": "code",
   "execution_count": 1,
   "id": "bfa33a1f-6707-405f-adf0-8ccea8bea796",
   "metadata": {
    "tags": []
   },
   "outputs": [],
   "source": [
    "# importing libraries\n",
    "import sklearn as sk\n",
    "from sklearn.datasets import load_diabetes, make_classification\n",
    "import sklearn.linear_model as sk_lm\n",
    "import sklearn.model_selection as sk_ms\n",
    "import pandas as pd\n",
    "import numpy as np\n",
    "import matplotlib.pyplot as plt\n",
    "from sklearn.preprocessing import StandardScaler\n",
    "import sklearn.metrics as sk_mx\n",
    "import seaborn as sns\n",
    "# from sklearn.inspection import DecisionB/oundaryDisplay"
   ]
  },
  {
   "cell_type": "code",
   "execution_count": null,
   "id": "8f4120be-a6fb-4c18-8136-e156d6a35594",
   "metadata": {},
   "outputs": [],
   "source": [
    "from sklearn.model_selection import cross_val_score"
   ]
  },
  {
   "cell_type": "code",
   "execution_count": null,
   "id": "a59cd18e-482e-442a-b316-3b46ce91f248",
   "metadata": {},
   "outputs": [],
   "source": [
    "# importing files for logistic regression workout\n",
    "diab=load_diabetes()\n",
    "X, Y = diab.data,diab.target"
   ]
  },
  {
   "cell_type": "code",
   "execution_count": null,
   "id": "a9339f6e-32a0-45cc-9a7b-2bc33591f193",
   "metadata": {
    "tags": []
   },
   "outputs": [],
   "source": [
    "# len(diab.data[0])\n",
    "# diab\n",
    "(1/0.54)*.4"
   ]
  },
  {
   "cell_type": "code",
   "execution_count": null,
   "id": "5c96f15c-c014-4ed3-8f7d-414e355cf2d8",
   "metadata": {
    "tags": []
   },
   "outputs": [],
   "source": [
    "# encoding Y --> classification\n",
    "y_class=(Y>np.mean(Y)).astype('int')\n",
    "y_class.sum()/len(y_class)*100\n",
    "y_class.sum()"
   ]
  },
  {
   "cell_type": "code",
   "execution_count": null,
   "id": "735c9cb5-02ff-4ab3-9586-80650bf70c07",
   "metadata": {
    "tags": []
   },
   "outputs": [],
   "source": [
    "x_train,x_test,y_train,y_test=sk_ms.train_test_split(X,y_class,test_size=0.3,random_state=42)\n",
    "scaler=StandardScaler()\n",
    "x_train=scaler.fit_transform(x_train)\n",
    "x_test=scaler.transform(x_test)"
   ]
  },
  {
   "cell_type": "code",
   "execution_count": null,
   "id": "b705171d-bd92-4e06-b54f-cb368c9d3b7e",
   "metadata": {
    "tags": []
   },
   "outputs": [],
   "source": [
    "lg_md=sk_lm.LogisticRegression()\n",
    "lg_md.fit(x_train,y_train)\n",
    "y_pred=cc.predict(x_test)\n",
    "y_pred_prob=lg_md.predict_proba(x_test)\n",
    "y_train_test=lg_md.predict(x_train)"
   ]
  },
  {
   "cell_type": "code",
   "execution_count": null,
   "id": "307a981a-7d1f-45b3-b095-af7ab128c978",
   "metadata": {
    "tags": []
   },
   "outputs": [],
   "source": [
    "sk_mx.confusion_matrix(y_train,y_train_test)"
   ]
  },
  {
   "cell_type": "code",
   "execution_count": null,
   "id": "84595930-283c-4e43-90f2-661cacfd8e72",
   "metadata": {
    "tags": []
   },
   "outputs": [],
   "source": [
    "sk_mx.confusion_matrix(y_test,y_pred)"
   ]
  },
  {
   "cell_type": "code",
   "execution_count": null,
   "id": "1b162627-1ae8-4e40-92c7-b2858ba032fb",
   "metadata": {
    "tags": []
   },
   "outputs": [],
   "source": [
    "data={'y_pred_class':y_pred, 'y_pred_prob2':y_pred_prob[:,1], 'y_pred_proba1':y_pred_prob[:,0]}\n",
    "data1=pd.DataFrame(data)"
   ]
  },
  {
   "cell_type": "code",
   "execution_count": null,
   "id": "04ab040b-e17f-45fe-8b16-596102f31511",
   "metadata": {
    "tags": []
   },
   "outputs": [],
   "source": [
    "data1[data1['y_pred_class']==1].y_pred_prob2.min(),data1[data1['y_pred_class']==1].y_pred_prob2.max(),data1[data1['y_pred_class']==1].y_pred_prob2.mean(),data1[data1['y_pred_class']==1].y_pred_prob2.median()"
   ]
  },
  {
   "cell_type": "code",
   "execution_count": null,
   "id": "0c4b9ebe-1cc9-4e6a-a261-56806a349d24",
   "metadata": {
    "tags": []
   },
   "outputs": [],
   "source": [
    "accuracy_test=sk_mx.accuracy_score(y_test,y_pred)\n",
    "accuracy_train=sk_mx.accuracy_score(y_train,y_train_test)\n",
    "print(accuracy_train,accuracy_test)"
   ]
  },
  {
   "cell_type": "code",
   "execution_count": null,
   "id": "04bdc05d-dd2e-4a74-9f0c-1e1208811359",
   "metadata": {
    "tags": []
   },
   "outputs": [],
   "source": [
    "sk_mx.confusion_matrix(y_test,y_pred)\n",
    "y_pred.sum()\n"
   ]
  },
  {
   "cell_type": "code",
   "execution_count": null,
   "id": "ef512ea1-13a9-47a7-aa69-564359d0709c",
   "metadata": {
    "tags": []
   },
   "outputs": [],
   "source": [
    "c=lg_md.intercept_\n",
    "m4=lg_md.coef_[0][2]\n",
    "m8=lg_md.coef_[0][8]\n",
    "\n",
    "def decision_boundary(x):\n",
    "    return -(c+m4*x)/m8\n",
    "dec_bnd=decision_boundary(x_test[:, 2])\n",
    "x=np.linspace(x_test[:, 2].min(),x_test[:, 2].max(),len(dec_bnd))\n",
    "# len(dec_bnd),len(x)\n",
    "np.arange(x_test[:, 2].min(),x_test[:, 2].max())"
   ]
  },
  {
   "cell_type": "code",
   "execution_count": null,
   "id": "f580df9e-dfec-4262-ab8a-3497c256b925",
   "metadata": {
    "tags": []
   },
   "outputs": [],
   "source": [
    "\n",
    "# Visuaintercept_the decision boundary with accuracy information\n",
    "plt.figure(figsize=(8, 6))\n",
    "sns.scatterplot(x=x_test[:, 2], y=x_test[:, 8], hue=y_test, color={\n",
    "                0: 'blue', 1: 'red'}, marker='o')\n",
    "plt.plot(x_test[:, 2],decision_boundary(x_test[:, 2]),ls=\"--\",label=\"decision boundary\",color=\"black\")\n",
    "plt.xlabel(\"BMI\")\n",
    "plt.ylabel(\"Age\")\n",
    "plt.title(\"Logistic Regression Decision Boundary\\nAccuracy: {:.2f}%\".format(\n",
    "    accuracy_test * 100))\n",
    "plt.legend(title=\"Diabetes\", loc=\"upper right\")\n",
    "plt.grid()\n",
    "plt.show()"
   ]
  },
  {
   "cell_type": "markdown",
   "id": "1d395e14-04f9-4e4d-8806-1a0cda417be8",
   "metadata": {},
   "source": [
    "#### Imbalanced dataset"
   ]
  },
  {
   "cell_type": "code",
   "execution_count": null,
   "id": "b3f1b9d7-e24b-4f57-99dd-bb227ec2f124",
   "metadata": {
    "tags": []
   },
   "outputs": [],
   "source": [
    "X, y = make_classification(n_samples=1000, n_features=20, n_informative=2,\n",
    "                           n_redundant=10, weights=[0.995, 0.005], random_state=42)\n",
    "X.shape, y.shape\n",
    "y.mean()"
   ]
  },
  {
   "cell_type": "code",
   "execution_count": null,
   "id": "13f908d7-0009-4e44-8c74-92d19deadf43",
   "metadata": {
    "tags": []
   },
   "outputs": [],
   "source": [
    "X_train, X_test, y_train, y_test = sk_ms.train_test_split(X, y, test_size=0.3, random_state=42)"
   ]
  },
  {
   "cell_type": "code",
   "execution_count": null,
   "id": "e139ed92-0ff2-4a1e-8ba6-411cd5e05380",
   "metadata": {
    "tags": []
   },
   "outputs": [],
   "source": [
    "lr_model = sk_lm.LogisticRegression(random_state=42)\n",
    "lr_model.fit(X_train, y_train)\n",
    " \n",
    "# Make predictions with the standard model\n",
    "y_pred_lr = lr_model.predict(X_test)\n",
    "y_pred_lr_prob=lr_model.predict_proba(X_test)[:,1]\n",
    " \n",
    "# Evaluate the standard model\n",
    "print(\"Logistic Regression:\")\n",
    "print(sk_mx.classification_report(y_test, y_pred_lr))\n",
    " \n",
    "# Fit a weighted logistic regression model\n",
    "weights = {0: 1, 1: 1000}  # Weight 10 for class 1 (minority class)\n",
    "weighted_lr_model = sk_lm.LogisticRegression(random_state=42, class_weight=weights)\n",
    "weighted_lr_model.fit(X_train, y_train)\n",
    " \n",
    "# Make predictions with the weighted model\n",
    "y_pred_weighted_lr = weighted_lr_model.predict(X_test)\n",
    "y_pred_weighted_lr_prob=weighted_lr_model.predict_proba(X_test)[:,1]\n",
    "\n",
    "im_data=pd.DataFrame({'actual':y_test,'pred_lr':y_pred_lr,'prob_lr': y_pred_lr_prob,'pred_wlr': y_pred_weighted_lr,'prob_wlr':y_pred_weighted_lr_prob})\n",
    "\n",
    "# Evaluate the weighted model\n",
    "print(\"Weighted Logistic Regression:\")\n",
    "print(sk_mx.classification_report(y_test, y_pred_weighted_lr))\n",
    "accuracy_lr=sk_mx.accuracy_score(y_test,y_pred_lr)\n",
    "accuracy_wlr=sk_mx.accuracy_score(y_test,y_pred_weighted_lr)"
   ]
  },
  {
   "cell_type": "code",
   "execution_count": null,
   "id": "376b9bb6-00dd-4004-b0f7-75b750636977",
   "metadata": {
    "tags": []
   },
   "outputs": [],
   "source": [
    "print(im_data[im_data['pred_lr']==1].prob_lr.min(),im_data[im_data['actual']==1].prob_lr.max())\n",
    "print(im_data[im_data['pred_wlr']==1].prob_wlr.min(),im_data[im_data['actual']==1].prob_wlr.max())"
   ]
  },
  {
   "cell_type": "code",
   "execution_count": null,
   "id": "0806caa4-398b-42fc-9f98-d99acab45911",
   "metadata": {
    "tags": []
   },
   "outputs": [],
   "source": [
    "# Visualize the decision boundary with accuracy information\n",
    "plt.figure(figsize=(8, 6))\n",
    "sns.scatterplot(x=X_test[:, 2], y=X_test[:, 8], hue=y_pred_lr, color={\n",
    "                0: 'blue', 1: 'red'}, marker='o')\n",
    "plt.xlabel(\"BMI\")\n",
    "plt.ylabel(\"Age\")\n",
    "plt.title(\"Logistic Regression Decision Boundary\\nAccuracy: {:.2f}%\".format(\n",
    "    accuracy_lr * 100))\n",
    "plt.legend(title=\"Diabetes\", loc=\"upper right\")\n",
    "plt.show()"
   ]
  },
  {
   "cell_type": "code",
   "execution_count": null,
   "id": "df8af618-483f-4753-bad3-a9a9cdbfc20b",
   "metadata": {
    "tags": []
   },
   "outputs": [],
   "source": [
    "# Visualize the decision boundary with accuracy information\n",
    "plt.figure(figsize=(8, 6))\n",
    "sns.scatterplot(x=X_test[:, 2], y=X_test[:, 8], hue=y_pred_weighted_lr, color={\n",
    "                0: 'blue', 1: 'red'}, marker='o')\n",
    "plt.xlabel(\"BMI\")\n",
    "plt.ylabel(\"Age\")\n",
    "plt.title(\"Logistic Regression Decision Boundary\\nAccuracy: {:.2f}%\".format(\n",
    "    accuracy_wlr * 100))\n",
    "plt.legend(title=\"Diabetes\", loc=\"upper right\")\n",
    "plt.show()"
   ]
  },
  {
   "cell_type": "code",
   "execution_count": null,
   "id": "911604a3-72b9-4c2f-a33d-dfd4810b4b21",
   "metadata": {
    "tags": []
   },
   "outputs": [],
   "source": [
    "pd.DataFrame({'actual':y_test,'pred_lr':y_pred_lr,'prob_lr': y_pred_lr_prob,'pred_wlr': y_pred_weighted_lr,'prob_wlr':y_pred_weighted_lr_prob})"
   ]
  },
  {
   "cell_type": "code",
   "execution_count": null,
   "id": "d46ad636-f009-4de4-b1ea-64a5f3b51f3b",
   "metadata": {
    "tags": []
   },
   "outputs": [],
   "source": [
    "# # Plot ROC Curve\n",
    "# fpr, tpr, thresholds = roc_curve(y_test, y_pred_lr_prob)\n",
    "# roc_auc = auc(fpr, tpr)\n",
    " \n",
    "# plt.figure(figsize=(8, 6))\n",
    "# plt.plot(fpr, tpr, color='darkorange', lw=2,\n",
    "#          label=f'ROC Curve (AUC = {roc_auc:.2f})')\n",
    "# plt.plot([0, 1], [0, 1], color='navy', lw=2, linestyle='--', label='Random')\n",
    "# plt.xlabel('False Positive Rate')\n",
    "# plt.ylabel('True Positive Rate')\n",
    "# plt.title('Receiver Operating Characteristic (ROC) Curve\\nAccuracy: {:.2f}%'.format(\n",
    "#     accuracy * 100))\n",
    "# plt.legend(loc=\"lower right\")\n",
    "# plt.show()"
   ]
  },
  {
   "cell_type": "code",
   "execution_count": null,
   "id": "c1d9906a-d3af-4c65-93be-359a51bc7b9c",
   "metadata": {
    "tags": []
   },
   "outputs": [],
   "source": [
    "weighted_lr_model.intercept_[0]"
   ]
  },
  {
   "cell_type": "code",
   "execution_count": null,
   "id": "f900eef3-7d60-4e27-a2a8-4a4c81ea7853",
   "metadata": {
    "tags": []
   },
   "outputs": [],
   "source": [
    "weighted_lr_model.coef_"
   ]
  },
  {
   "cell_type": "code",
   "execution_count": null,
   "id": "9e734d64-23aa-43d7-bd6c-caff3991e2cf",
   "metadata": {},
   "outputs": [],
   "source": [
    "import matplotlib.pyplot as plt\n",
    "import numpy as np\n",
    "from sklearn.datasets import load_iris\n",
    "from sklearn.inspection import DecisionBoundaryDisplay\n",
    "from sklearn.tree import DecisionTreeClassifier\n",
    "iris = load_iris()\n",
    "feature_1, feature_2 = np.meshgrid(\n",
    "    np.linspace(iris.data[:, 0].min(), iris.data[:, 0].max()),\n",
    "    np.linspace(iris.data[:, 1].min(), iris.data[:, 1].max())\n",
    ")\n",
    "grid = np.vstack([feature_1.ravel(), feature_2.ravel()]).T\n",
    "tree = DecisionTreeClassifier().fit(iris.data[:, :2], iris.target)\n",
    "y_pred = np.reshape(tree.predict(grid), feature_1.shape)\n",
    "display = DecisionBoundaryDisplay(\n",
    "    xx0=feature_1, xx1=feature_2, response=y_pred\n",
    ")\n",
    "display.plot()\n",
    "\n",
    "display.ax_.scatter(\n",
    "    iris.data[:, 0], iris.data[:, 1], c=iris.target, edgecolor=\"black\"\n",
    ")\n",
    "\n",
    "plt.show()"
   ]
  },
  {
   "cell_type": "code",
   "execution_count": 2,
   "id": "9c7028fc-cbf8-48cd-929c-c43e9cf8cf5c",
   "metadata": {},
   "outputs": [],
   "source": [
    "from itertools import product"
   ]
  },
  {
   "cell_type": "code",
   "execution_count": 51,
   "id": "1e236d77-1945-46e9-89a1-4d66cf6984d4",
   "metadata": {
    "tags": []
   },
   "outputs": [
    {
     "data": {
      "text/plain": [
       "(array([[1, 1, 1, ..., 6, 6, 6],\n",
       "        [1, 1, 1, ..., 6, 6, 6],\n",
       "        [1, 1, 1, ..., 6, 6, 6]]),\n",
       " array([[1, 1, 1, ..., 6, 6, 6],\n",
       "        [1, 2, 3, ..., 4, 5, 6]]))"
      ]
     },
     "execution_count": 51,
     "metadata": {},
     "output_type": "execute_result"
    }
   ],
   "source": [
    "arr = np.array(list(product([1,2,3,4,5,6], [1,2,3,4,5,6], [1,2,3,4,5,6], [1,2,3,4,5,6], [1,2,3,4,5,6] ))).transpose()\n",
    "arr[:3],arr[3:]"
   ]
  },
  {
   "cell_type": "code",
   "execution_count": 28,
   "id": "9dda423b-b762-4f16-8c40-2290d5ad7a01",
   "metadata": {
    "tags": []
   },
   "outputs": [
    {
     "data": {
      "text/plain": [
       "6    1\n",
       "dtype: int64"
      ]
     },
     "execution_count": 28,
     "metadata": {},
     "output_type": "execute_result"
    }
   ],
   "source": [
    "pd.Series(np.max(arr[0].tolist())).value_counts()"
   ]
  },
  {
   "cell_type": "code",
   "execution_count": 30,
   "id": "d43099db-adb4-4cf4-9e07-c87c5bb2a6fb",
   "metadata": {
    "tags": []
   },
   "outputs": [
    {
     "data": {
      "text/plain": [
       "1      36\n",
       "2     252\n",
       "3     684\n",
       "4    1332\n",
       "5    2196\n",
       "6    3276\n",
       "dtype: int64"
      ]
     },
     "execution_count": 30,
     "metadata": {},
     "output_type": "execute_result"
    }
   ],
   "source": [
    "pd.Series(np.max(arr[:3],axis=0)).value_counts().sort_index()"
   ]
  },
  {
   "cell_type": "code",
   "execution_count": 32,
   "id": "55da44dd-c032-4fb9-996e-cd3ddfa75b89",
   "metadata": {
    "tags": []
   },
   "outputs": [
    {
     "data": {
      "text/plain": [
       "array([1, 1, 1, ..., 6, 6, 6])"
      ]
     },
     "execution_count": 32,
     "metadata": {},
     "output_type": "execute_result"
    }
   ],
   "source": [
    "np.max(arr[:3],axis=0)"
   ]
  },
  {
   "cell_type": "code",
   "execution_count": 33,
   "id": "fe802710-ca24-421a-b980-7a10751f928d",
   "metadata": {
    "tags": []
   },
   "outputs": [
    {
     "data": {
      "text/plain": [
       "array([[1, 1, 1, ..., 6, 6, 6],\n",
       "       [1, 1, 1, ..., 6, 6, 6],\n",
       "       [1, 1, 1, ..., 6, 6, 6],\n",
       "       [1, 1, 1, ..., 6, 6, 6],\n",
       "       [1, 2, 3, ..., 4, 5, 6]])"
      ]
     },
     "execution_count": 33,
     "metadata": {},
     "output_type": "execute_result"
    }
   ],
   "source": [
    "arr"
   ]
  },
  {
   "cell_type": "code",
   "execution_count": null,
   "id": "15f6af70-5ffa-4d1c-ac4d-9075f40d43b9",
   "metadata": {},
   "outputs": [],
   "source": []
  }
 ],
 "metadata": {
  "kernelspec": {
   "display_name": "Python 3 (ipykernel)",
   "language": "python",
   "name": "python3"
  },
  "language_info": {
   "codemirror_mode": {
    "name": "ipython",
    "version": 3
   },
   "file_extension": ".py",
   "mimetype": "text/x-python",
   "name": "python",
   "nbconvert_exporter": "python",
   "pygments_lexer": "ipython3",
   "version": "3.7.4"
  }
 },
 "nbformat": 4,
 "nbformat_minor": 5
}
