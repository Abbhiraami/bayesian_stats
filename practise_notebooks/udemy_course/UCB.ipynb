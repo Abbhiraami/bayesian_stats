{
 "cells": [
  {
   "cell_type": "markdown",
   "id": "4b3e7878-1b50-479d-ba25-d38d53ac519a",
   "metadata": {},
   "source": [
    "### UCB & Thompson sampling algorithm"
   ]
  },
  {
   "cell_type": "code",
   "execution_count": 12,
   "id": "3dc541dd-7a31-416e-86f1-3a4e45c9013d",
   "metadata": {
    "tags": []
   },
   "outputs": [],
   "source": [
    "import matplotlib.pyplot as pp\n",
    "import pandas as pd\n",
    "import numpy as np\n",
    "import numpy.random as npr\n",
    "from scipy.stats import beta"
   ]
  },
  {
   "cell_type": "code",
   "execution_count": 13,
   "id": "b3a915ed-3a26-4ff8-a8b4-8905f3d999a7",
   "metadata": {
    "tags": []
   },
   "outputs": [
    {
     "name": "stderr",
     "output_type": "stream",
     "text": [
      "c:\\users\\shambhavvisen\\appdata\\local\\programs\\python\\python37\\lib\\site-packages\\ipykernel_launcher.py:2: RuntimeWarning: divide by zero encountered in true_divide\n",
      "  \n"
     ]
    },
    {
     "data": {
      "text/plain": [
       "(array([0.        , 0.11111111, 0.22222222, 0.33333333, 0.44444444,\n",
       "        0.55555556, 0.66666667, 0.77777778, 0.88888889, 1.        ]),\n",
       " array([       inf, 9.        , 4.5       , 3.        , 2.25      ,\n",
       "        1.8       , 1.5       , 1.28571429, 1.125     , 1.        ]))"
      ]
     },
     "execution_count": 13,
     "metadata": {},
     "output_type": "execute_result"
    }
   ],
   "source": [
    "t= np.linspace(0,1,10)\n",
    "t,1/t"
   ]
  },
  {
   "cell_type": "code",
   "execution_count": 14,
   "id": "8cbcafee-e033-4c6c-8b35-4b63bd22c3cf",
   "metadata": {
    "tags": []
   },
   "outputs": [],
   "source": [
    "class bandit_class:\n",
    "    def __init__(self,m):\n",
    "        self.m=m #true win rate\n",
    "        self.mean=0 # estimated win\n",
    "        self.N=0 # number of samples collected\n",
    "    def choose(self):\n",
    "        return npr.randn()+self.m\n",
    "    def update_mean(self,x):\n",
    "        self.N+=1\n",
    "        self.mean=(1-(1.0/self.N))*self.mean + (1.0/self.N)*x\n",
    "        \n",
    "def epsilon_greedy(r1,r2,r3,eps,N):\n",
    "    trails=([restuarants(r1),restuarants(r2),restuarants(r3)])\n",
    "    num_times_explored=0\n",
    "    num_times_exploited=0\n",
    "    num_optimal =0\n",
    "    optimal_j=np.argmax([b.m for b in trails])\n",
    "    true_mean =trails[optimal_j]\n",
    "    print(f'true_mean:{true_mean}')\n",
    "    data=np.empty(N)\n",
    "    for i in range(N):\n",
    "        p=npr.random()\n",
    "        if p < eps:\n",
    "            num_times_explored +=1\n",
    "            j=npr.choice(3)\n",
    "        else:\n",
    "            num_times_exploited +=1\n",
    "            j=np.argmax([a.mean for a in trails])\n",
    "        x=trails[j].choose()\n",
    "        # print(f'x_N:{x}')\n",
    "        trails[j].update_mean(x)\n",
    "        # rho=(true_mean-trails[j])\n",
    "        # print(f'rho:{rho}')\n",
    "        if j==optimal_j:\n",
    "            num_optimal +=1\n",
    "        # for plot\n",
    "        data[i]=x\n",
    "        \n",
    "    cumulative_avg= np.cumsum(data)/(np.arange(N)+1)\n",
    "    \n",
    "    print(f'Number of times explored: {num_times_explored}')\n",
    "    print(f'Number of times exploited: {num_times_exploited}')\n",
    "    print(f'number of optimals:{num_optimal}')\n",
    "    \n",
    "    plt.plot(cumulative_avg,label=f'eps:{eps}')\n",
    "    plt.plot(np.ones(N)*r1)#,label=f'R1-{eps}')\n",
    "    plt.plot(np.ones(N)*r2)#,label=f'R2-{eps}')\n",
    "    plt.plot(np.ones(N)*r3)#,label=f'R3-{eps}')\n",
    "    plt.xscale('log')\n",
    "    plt.legend()\n",
    "    plt.grid()\n",
    "    \n",
    "    for b in trails:\n",
    "        print(b.mean)\n",
    "    return cumulative_avg"
   ]
  },
  {
   "cell_type": "markdown",
   "id": "317afb99-95be-4b80-829b-abfa8e593f27",
   "metadata": {},
   "source": [
    "### Thompson Sampling Algoritm\n",
    "\n"
   ]
  },
  {
   "cell_type": "code",
   "execution_count": 55,
   "id": "b018dc22-e1d7-444b-a804-dda5d81e42f6",
   "metadata": {
    "tags": []
   },
   "outputs": [
    {
     "data": {
      "image/png": "[encoded data removed]",
      "text/plain": [
       "<Figure size 640x480 with 1 Axes>"
      ]
     },
     "metadata": {},
     "output_type": "display_data"
    }
   ],
   "source": [
    "# pp.hist(beta.rvs(1,1,2,3,10))\n",
    "pp.plot(np.linspace(0,1,100),beta.rvs(1,1,size=100))\n",
    "pp.hist(beta.rvs(1,1,size=100))\n",
    "pp.grid()"
   ]
  },
  {
   "cell_type": "code",
   "execution_count": null,
   "id": "652d1eca-74e4-494a-9a23-851c5e8d4498",
   "metadata": {
    "tags": []
   },
   "outputs": [],
   "source": []
  },
  {
   "cell_type": "code",
   "execution_count": null,
   "id": "87969984-3166-4fee-87bc-e4d7346f4ee6",
   "metadata": {},
   "outputs": [],
   "source": []
  }
 ],
 "metadata": {
  "kernelspec": {
   "display_name": "Python 3 (ipykernel)",
   "language": "python",
   "name": "python3"
  },
  "language_info": {
   "codemirror_mode": {
    "name": "ipython",
    "version": 3
   },
   "file_extension": ".py",
   "mimetype": "text/x-python",
   "name": "python",
   "nbconvert_exporter": "python",
   "pygments_lexer": "ipython3",
   "version": "3.7.4"
  }
 },
 "nbformat": 4,
 "nbformat_minor": 5
}
