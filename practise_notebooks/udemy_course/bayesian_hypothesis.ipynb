{
 "cells": [
  {
   "cell_type": "code",
   "execution_count": 4,
   "id": "8d53b6b5-e773-4231-a9ba-4dc43966e427",
   "metadata": {
    "tags": []
   },
   "outputs": [],
   "source": [
    "import pandas as pd\n",
    "import scipy\n",
    "from scipy.stats import binom, norm\n",
    "import matplotlib.pyplot as pp\n",
    "import numpy as np"
   ]
  },
  {
   "cell_type": "code",
   "execution_count": null,
   "id": "8ed2c548-818a-438c-8972-e28c1803e816",
   "metadata": {
    "tags": []
   },
   "outputs": [],
   "source": [
    "p_3_8_y=norm.pdf(3.8,2.8,1)\n",
    "c_y_d=p_3_8_y*.3\n",
    "p_3_8_n=norm.pdf(3.8,6.1,1)\n",
    "c_n_d=p_3_8_n*0.7\n",
    "c_y_d,c_n_d"
   ]
  },
  {
   "cell_type": "code",
   "execution_count": null,
   "id": "c4b01562-173c-407d-b408-e467af5429c4",
   "metadata": {
    "tags": []
   },
   "outputs": [],
   "source": [
    "0.072591217355743/(0.072591217355743+0.019828926419120832)"
   ]
  },
  {
   "cell_type": "code",
   "execution_count": null,
   "id": "0a598d2c-3b96-4cf9-bb57-e3fcdaa13460",
   "metadata": {
    "tags": []
   },
   "outputs": [],
   "source": [
    "# H_0: All colors are equally preferred\n",
    "# H_1: Blue is preferred more\n",
    "\n",
    "# There are three colors - yellow, blue and green \n",
    "# N is the people count\n",
    "# P(N=y)=2/10, P(N=g)=2/10, P(N=b)=6/10\n",
    "# binom(r,n,p\n",
    "lst=[binom.pmf(r,10,1/3) for r in range(0,11) ]\n",
    "lst"
   ]
  },
  {
   "cell_type": "code",
   "execution_count": null,
   "id": "ac7d6f41-438c-4e6e-a35e-19ec49348e04",
   "metadata": {
    "tags": []
   },
   "outputs": [],
   "source": [
    "val=[]\n",
    "for i in range(14,20):\n",
    "    a=binom.pmf(i,20,0.5)\n",
    "    print(a)\n",
    "    val.append(a)\n",
    "sum(val)\n",
    "prob_data=(.7*binom.pmf(14,20,0.5))+(0.1*binom.pmf(14,20,0.6))+(0.1*binom.pmf(14,20,0.7))+(0.1*binom.pmf(14,20,0.8))\n",
    "(0.7*binom.pmf(14,20,0.5))/prob_data\n",
    "# prob_data"
   ]
  },
  {
   "cell_type": "code",
   "execution_count": null,
   "id": "e6b2127e-7638-4588-9fed-1a35144269dc",
   "metadata": {
    "tags": []
   },
   "outputs": [],
   "source": [
    "binom.pmf(6,10,1/3)*.8,binom.pmf(6,10,.5)*.2"
   ]
  },
  {
   "cell_type": "code",
   "execution_count": null,
   "id": "a6bbd13c-35f6-4f73-8c8d-114bfe391f95",
   "metadata": {
    "tags": []
   },
   "outputs": [],
   "source": [
    "# Probability of P(N>=6)\n",
    "print(f'Probability of more than 6 people choosing blue: {(1-binom.cdf(5,10,1/3))*100:.1f}%')"
   ]
  },
  {
   "cell_type": "code",
   "execution_count": null,
   "id": "98736f32-93cb-41c4-a225-d96f9542d557",
   "metadata": {
    "tags": []
   },
   "outputs": [],
   "source": [
    "# Bayesian Approach\n",
    "# P(Blue=1/3)=80% \n",
    "# P(Blue=0.5)=20%\n",
    "print(f'P(data/blue=1/3):{binom.pmf(6,10,1/3)*(1/3)}')\n",
    "print(f'P(data/blue=0.5):{binom.pmf(6,10,0.5)*0.5}')\n"
   ]
  },
  {
   "cell_type": "code",
   "execution_count": null,
   "id": "366a93e2-7f34-4f7a-a31d-916c32c5a237",
   "metadata": {
    "tags": []
   },
   "outputs": [],
   "source": [
    "print(\"P(Blue=1/3/data)\")\n",
    "(0.8)*binom.pmf(6,10,1/3)/((0.8*binom.pmf(6,10,1/3))+(0.2*binom.pmf(6,10,0.5)))"
   ]
  },
  {
   "cell_type": "code",
   "execution_count": null,
   "id": "6d387eb1-a281-4c52-9404-930371974937",
   "metadata": {},
   "outputs": [],
   "source": [
    "print(\"P(Blue=0.5/data)\")\n",
    "(0.2)*binom.pmf(6,10,0.5)/(((0.8)*binom.pmf(6,10,1/3))+(0.2*binom.pmf(6,10,0.5)))"
   ]
  },
  {
   "cell_type": "code",
   "execution_count": null,
   "id": "fa853521-0a83-4487-bdc0-584dd543b052",
   "metadata": {
    "tags": []
   },
   "outputs": [],
   "source": [
    "(0.4*0.35*0.4*0.3*0.4)/((0.4*0.35*0.4*0.3*0.4)+(0.5*0.3*0.7*0.6*0.6))"
   ]
  },
  {
   "cell_type": "code",
   "execution_count": null,
   "id": "64910a7b-0b0e-45f7-86f9-4830f3977084",
   "metadata": {
    "tags": []
   },
   "outputs": [],
   "source": [
    "\n",
    "(0.4/(0.4+0.5))*(0.35/(0.35+0.3))*(0.4/(0.4+0.7))*(0.3/(0.3+0.8))*(0.4/(0.4+0.35))"
   ]
  },
  {
   "cell_type": "code",
   "execution_count": null,
   "id": "c6c59e7c-0eeb-4d1a-85bd-67770215c39f",
   "metadata": {
    "tags": []
   },
   "outputs": [],
   "source": [
    "(0.5/(0.4+0.5))*(0.3/(0.35+0.3))*(0.7/(0.4+0.7))*(0.8/(0.3+0.8))*(0.35/(0.4+0.35))"
   ]
  },
  {
   "cell_type": "code",
   "execution_count": null,
   "id": "a243baa0-2429-4a99-9eb8-3f917c9c6295",
   "metadata": {
    "tags": []
   },
   "outputs": [],
   "source": [
    "(0.012658049021685387/(0.012658049021685387+0.05537896446987355))*100"
   ]
  },
  {
   "cell_type": "code",
   "execution_count": null,
   "id": "3ecae6ae-9d95-4784-9122-433a6be30681",
   "metadata": {},
   "outputs": [],
   "source": []
  }
 ],
 "metadata": {
  "kernelspec": {
   "display_name": "Python 3 (ipykernel)",
   "language": "python",
   "name": "python3"
  },
  "language_info": {
   "codemirror_mode": {
    "name": "ipython",
    "version": 3
   },
   "file_extension": ".py",
   "mimetype": "text/x-python",
   "name": "python",
   "nbconvert_exporter": "python",
   "pygments_lexer": "ipython3",
   "version": "3.7.4"
  }
 },
 "nbformat": 4,
 "nbformat_minor": 5
}
