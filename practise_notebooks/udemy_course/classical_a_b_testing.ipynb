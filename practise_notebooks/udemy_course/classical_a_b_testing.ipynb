{
 "cells": [
  {
   "cell_type": "markdown",
   "id": "2925cdc7-f12a-45ba-a605-a7c634b9f125",
   "metadata": {
    "tags": []
   },
   "source": [
    "#### Classical A/B testing Exercise"
   ]
  },
  {
   "cell_type": "code",
   "execution_count": 2,
   "id": "e9708f0f-132d-4af4-983d-267547564e96",
   "metadata": {
    "tags": []
   },
   "outputs": [],
   "source": [
    "### Loading packages\n",
    "import numpy as np\n",
    "from scipy.stats import norm\n",
    "from statsmodels.stats.weightstats import ztest"
   ]
  },
  {
   "cell_type": "code",
   "execution_count": 3,
   "id": "3663a1e4-263b-43f6-90ed-387d96ab1ec3",
   "metadata": {
    "tags": []
   },
   "outputs": [],
   "source": [
    "#s setting seed\n",
    "np.random.seed(0)"
   ]
  },
  {
   "cell_type": "code",
   "execution_count": 5,
   "id": "52686d22-8c04-482c-b9b8-058a4a918f2f",
   "metadata": {
    "tags": []
   },
   "outputs": [],
   "source": [
    "# Intializing parameters for Z-test\n",
    "N=100\n",
    "mu=0.3\n",
    "sigma=1\n",
    "# Z=(X-mu)/sigma\n",
    "x=np.random.randn(N)*sigma+mu\n"
   ]
  },
  {
   "cell_type": "markdown",
   "id": "df0d823c-a0d8-4345-af2e-736a45d27e17",
   "metadata": {},
   "source": [
    "## Z-test - two-sided test\n",
    "\n",
    "$H_0$: $\\mu_0 = 0$\n",
    "\n",
    "$H_1$: $\\mu_0 \\neq 0$\n",
    "\n",
    "$Z=\\frac{(\\bar{x} -\\mu_0)}{\\frac{\\sigma}{\\sqrt{n}}}$"
   ]
  },
  {
   "cell_type": "code",
   "execution_count": 6,
   "id": "742a8d43-9d7e-469e-b3ae-60676edd9d7a",
   "metadata": {
    "tags": []
   },
   "outputs": [
    {
     "data": {
      "text/plain": [
       "(3.673627434207382, 0.00023913133098375257)"
      ]
     },
     "execution_count": 6,
     "metadata": {},
     "output_type": "execute_result"
    }
   ],
   "source": [
    "# two-sided z-test\n",
    "ztest(x)"
   ]
  },
  {
   "cell_type": "code",
   "execution_count": 15,
   "id": "ad4346b2-b27f-4e38-adcb-9cc93dc8a1ef",
   "metadata": {
    "tags": []
   },
   "outputs": [
    {
     "name": "stdout",
     "output_type": "stream",
     "text": [
      "z value: 3.6736274342073814\n",
      "0.00011956566549187198 0.00011956566549187628\n",
      "p value:0.00023913133098374395\n"
     ]
    }
   ],
   "source": [
    "# two-sided\n",
    "mu_hat = x.mean()\n",
    "sigma_hat=x.std(ddof=1)\n",
    "z=mu_hat/(sigma_hat/np.sqrt(N))\n",
    "print(f'z value: {z}')\n",
    "p_right=1-norm.cdf(np.abs(z))\n",
    "p_left=norm.cdf(-np.abs(z))\n",
    "print(p_right,p_left)\n",
    "p=p_right*2\n",
    "print(f'p value:{p}')"
   ]
  },
  {
   "cell_type": "markdown",
   "id": "5a913486-6f3c-4d72-9d87-9a5364702147",
   "metadata": {},
   "source": [
    "## Z-test - two-sided test\n",
    "\n",
    "$H_0$: $\\mu_0 < 0$\n",
    "\n",
    "$H_1$: $\\mu_0 > 0$\n",
    "\n",
    "$Z=\\frac{(\\bar{x} -\\mu_0)}{\\frac{\\sigma}{\\sqrt{n}}}$"
   ]
  },
  {
   "cell_type": "code",
   "execution_count": 16,
   "id": "751c875c-4658-490a-bd49-1883f8a8b8e2",
   "metadata": {
    "tags": []
   },
   "outputs": [
    {
     "data": {
      "text/plain": [
       "(3.673627434207382, 0.00011956566549187628)"
      ]
     },
     "execution_count": 16,
     "metadata": {},
     "output_type": "execute_result"
    }
   ],
   "source": [
    "ztest(x,alternative='larger')"
   ]
  },
  {
   "cell_type": "code",
   "execution_count": 18,
   "id": "845a830a-1eec-4202-b5c9-2377a772a715",
   "metadata": {
    "tags": []
   },
   "outputs": [
    {
     "name": "stdout",
     "output_type": "stream",
     "text": [
      "z value: 3.6736274342073814\n",
      "p value:0.00011956566549187198\n"
     ]
    }
   ],
   "source": [
    "# two-sided\n",
    "mu_hat = x.mean()\n",
    "sigma_hat=x.std(ddof=1)\n",
    "z=mu_hat/(sigma_hat/np.sqrt(N))\n",
    "print(f'z value: {z}')\n",
    "p=1-norm.cdf(np.abs(z))\n",
    "# norm.sf(np.abs(z))\n",
    "print(f'p value:{p}')"
   ]
  },
  {
   "cell_type": "code",
   "execution_count": 19,
   "id": "094276ff-fa62-4288-be13-485d42311d66",
   "metadata": {
    "tags": []
   },
   "outputs": [
    {
     "data": {
      "text/plain": [
       "(1.7503275907409126, 0.08006180262704525)"
      ]
     },
     "execution_count": 19,
     "metadata": {},
     "output_type": "execute_result"
    }
   ],
   "source": [
    "# null under different reference value\n",
    "mu_0=0.2\n",
    "ztest(x,value=mu_0)"
   ]
  },
  {
   "cell_type": "code",
   "execution_count": 21,
   "id": "17e0c6d5-6b5f-4e6c-8a67-1c3c4a30c7d8",
   "metadata": {
    "tags": []
   },
   "outputs": [
    {
     "name": "stdout",
     "output_type": "stream",
     "text": [
      "z value: 1.7503275907409122\n",
      "0.040030901313522715 0.040030901313522674\n",
      "p value:0.08006180262704543\n"
     ]
    }
   ],
   "source": [
    "# two-sided\n",
    "mu_hat = x.mean()\n",
    "sigma_hat=x.std(ddof=1)\n",
    "z=(mu_hat-mu_0)/(sigma_hat/np.sqrt(N))\n",
    "print(f'z value: {z}')\n",
    "p_right=1-norm.cdf(np.abs(z))\n",
    "p_left=norm.cdf(-np.abs(z))\n",
    "print(p_right,p_left)\n",
    "p=p_right*2\n",
    "print(f'p value:{p}')"
   ]
  },
  {
   "cell_type": "markdown",
   "id": "7aa2570d-4715-4698-86d8-e814fde57a48",
   "metadata": {},
   "source": [
    "### Two sample test\n",
    "$Z=\\frac{(\\bar{x}_1-\\bar{x}_2)}{\\sqrt{\\sigma_1^2/n_1 + \\sigma_2^2/n_2}}$"
   ]
  },
  {
   "cell_type": "code",
   "execution_count": 23,
   "id": "b23c7ea3-f65f-4652-acde-9ec1e0e0f63a",
   "metadata": {
    "tags": []
   },
   "outputs": [],
   "source": [
    "# two-sample\n",
    "N1=100\n",
    "mu1=0.3\n",
    "sigma1=1\n",
    "# Z=(X-mu)/sigma\n",
    "x1=np.random.randn(N1)*sigma1+mu1\n",
    "\n",
    "N2=100\n",
    "mu2=0.5\n",
    "sigma2=1\n",
    "# Z=(X-mu)/sigma\n",
    "x2=np.random.randn(N2)*sigma2+mu2\n"
   ]
  },
  {
   "cell_type": "code",
   "execution_count": 24,
   "id": "f3511489-ea22-404d-8eeb-59ed17d3fdac",
   "metadata": {
    "tags": []
   },
   "outputs": [
    {
     "data": {
      "text/plain": [
       "(-0.0659859641954357, 0.947389000048316)"
      ]
     },
     "execution_count": 24,
     "metadata": {},
     "output_type": "execute_result"
    }
   ],
   "source": [
    "ztest(x1,x2)"
   ]
  },
  {
   "cell_type": "code",
   "execution_count": 27,
   "id": "3ef4547a-25a2-4d1e-a2a2-bacf5ca5b153",
   "metadata": {
    "tags": []
   },
   "outputs": [
    {
     "name": "stdout",
     "output_type": "stream",
     "text": [
      "z-value:-0.0659859641954357\n",
      "0.473694500024158 0.473694500024158\n",
      "p value:0.947389000048316\n"
     ]
    }
   ],
   "source": [
    "mu_hat1=x1.mean()\n",
    "mu_hat2=x2.mean()\n",
    "s2_hat1=x1.var(ddof=1)\n",
    "s2_hat2=x2.var(ddof=1)\n",
    "#\n",
    "z=(mu_hat1-mu_hat2)/np.sqrt(s2_hat1/N1 +s2_hat2/N2)\n",
    "print(f'z-value:{z}')\n",
    "p_right=1-norm.cdf(np.abs(z))\n",
    "p_left=norm.cdf(-np.abs(z))\n",
    "print(p_right,p_left)\n",
    "p=p_right*2\n",
    "print(f'p value:{p}')"
   ]
  },
  {
   "cell_type": "code",
   "execution_count": 33,
   "id": "cecbd938-207e-4787-b113-70dea0c52cc2",
   "metadata": {
    "tags": []
   },
   "outputs": [
    {
     "name": "stdout",
     "output_type": "stream",
     "text": [
      "0.061\n"
     ]
    }
   ],
   "source": [
    "## Hyypothesis testing on iterations\n",
    "tests_num=1000\n",
    "results=np.zeros(tests_num)\n",
    "for i in range(tests_num):\n",
    "    x0=np.random.randn(100)\n",
    "    x1=np.random.randn(100)\n",
    "    z,p=ztest(x0,x1)\n",
    "    results[i]=(p<0.05)\n",
    "    # print(results.mean())\n",
    "print(results.mean())"
   ]
  },
  {
   "cell_type": "markdown",
   "id": "7f3f141e-6a8a-42a0-a33b-953a0fe0bd8d",
   "metadata": {},
   "source": [
    "We don't have enough evidence to reject null hypothesis"
   ]
  },
  {
   "cell_type": "code",
   "execution_count": 4,
   "id": "3876397a-ed8a-4b0d-b31f-cbced7ee6d46",
   "metadata": {},
   "outputs": [
    {
     "data": {
      "text/plain": [
       "42571.96"
      ]
     },
     "execution_count": 4,
     "metadata": {},
     "output_type": "execute_result"
    }
   ],
   "source": [
    "# 16+16+271+40+22000+43+50+87.80+28.71+103+120+118+6+844+130+10+1061+10001+110+87+85.41+24+190+3001+64++91+18+2956.04+1000"
   ]
  },
  {
   "cell_type": "code",
   "execution_count": null,
   "id": "9a313b52-382a-4a69-8a66-5126dba49454",
   "metadata": {},
   "outputs": [],
   "source": []
  }
 ],
 "metadata": {
  "kernelspec": {
   "display_name": "Python 3 (ipykernel)",
   "language": "python",
   "name": "python3"
  },
  "language_info": {
   "codemirror_mode": {
    "name": "ipython",
    "version": 3
   },
   "file_extension": ".py",
   "mimetype": "text/x-python",
   "name": "python",
   "nbconvert_exporter": "python",
   "pygments_lexer": "ipython3",
   "version": "3.7.4"
  }
 },
 "nbformat": 4,
 "nbformat_minor": 5
}
